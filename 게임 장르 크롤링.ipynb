{
 "cells": [
  {
   "cell_type": "code",
   "execution_count": 1,
   "metadata": {},
   "outputs": [],
   "source": [
    "import requests\n",
    "from bs4 import BeautifulSoup\n",
    "from time import sleep\n",
    "import pandas as pd\n",
    "import os\n",
    "from urllib import parse\n",
    "import time\n",
    "import re"
   ]
  },
  {
   "cell_type": "code",
   "execution_count": 481,
   "metadata": {},
   "outputs": [],
   "source": [
    "site2 = 'https://store.steampowered.com/app/955770'\n",
    "response2 = requests.get(site1)\n",
    "bs2 = BeautifulSoup(response2.content, 'html.parser')"
   ]
  },
  {
   "cell_type": "code",
   "execution_count": 18,
   "metadata": {},
   "outputs": [],
   "source": [
    "a = []"
   ]
  },
  {
   "cell_type": "code",
   "execution_count": null,
   "metadata": {},
   "outputs": [],
   "source": [
    "df['a'].tolist()"
   ]
  },
  {
   "cell_type": "code",
   "execution_count": 97,
   "metadata": {
    "scrolled": true
   },
   "outputs": [],
   "source": [
    "site = 'https://store.steampowered.com/app/976340/'\n",
    "response = requests.get(site)\n",
    "soup = BeautifulSoup(response.content, 'html.parser')\n",
    "a = 0\n",
    "genre_list = []\n",
    "for app_tag in soup.select('a[class=app_tag]') :\n",
    "    text = soup.select('a[class=app_tag]')[a].text\n",
    "    text = re.sub('[\\r\\t\\n]','',text)\n",
    "    a = a+1\n",
    "    genre_list.append(text)\n"
   ]
  },
  {
   "cell_type": "code",
   "execution_count": 98,
   "metadata": {
    "scrolled": true
   },
   "outputs": [
    {
     "data": {
      "text/plain": [
       "['Simulation', 'Indie', 'Strategy', 'Management', 'Building', 'Singleplayer']"
      ]
     },
     "execution_count": 98,
     "metadata": {},
     "output_type": "execute_result"
    }
   ],
   "source": [
    "genre_list"
   ]
  },
  {
   "cell_type": "code",
   "execution_count": 482,
   "metadata": {},
   "outputs": [],
   "source": [
    "test = bs2.select('label[for=review_language_mine] span')"
   ]
  },
  {
   "cell_type": "code",
   "execution_count": 493,
   "metadata": {},
   "outputs": [
    {
     "data": {
      "text/plain": [
       "True"
      ]
     },
     "execution_count": 493,
     "metadata": {},
     "output_type": "execute_result"
    }
   ],
   "source": [
    "test == test1"
   ]
  },
  {
   "cell_type": "code",
   "execution_count": 100,
   "metadata": {
    "scrolled": true
   },
   "outputs": [
    {
     "name": "stderr",
     "output_type": "stream",
     "text": [
      "Some characters could not be decoded, and were replaced with REPLACEMENT CHARACTER.\n"
     ]
    }
   ],
   "source": [
    "code_frame = pd.read_csv('game_list.csv')\n",
    "code_list = code_frame['code'].tolist()\n",
    "for code in code_list:\n",
    "    test1 = []\n",
    "    time.sleep(1)\n",
    "    site = 'https://store.steampowered.com/app/'+code\n",
    "    response = requests.get(site)\n",
    "    soup = BeautifulSoup(response.content, 'html.parser')\n",
    "    page = 0 # 리셋 필요\n",
    "    a = 0\n",
    "    code = code\n",
    "    genre_list = []\n",
    "    for app_tag in soup.select('a[class=app_tag]') :\n",
    "        text = soup.select('a[class=app_tag]')[a].text\n",
    "        text = re.sub('[\\r\\t\\n]','',text)\n",
    "        a = a+1\n",
    "        genre_list.append(text)\n",
    "    if soup.select('label[for=review_language_mine] span') > test1 :\n",
    "        page = soup.select('label[for=review_language_mine] span')[0].text\n",
    "        page = re.sub('[(,)]','',page) # 특수문자 제거\n",
    "    df = pd.DataFrame([[code,page,genre_list]])\n",
    "    if os.path.exists('page_list.csv') == False :\n",
    "        df.columns = ['code','page','genre_list']\n",
    "        df.to_csv('page_list.csv', index=False, encoding='utf-8-sig')\n",
    "    else :\n",
    "        df.to_csv('page_list.csv' , index=False, encoding='utf-8-sig', mode='a', header=False)"
   ]
  },
  {
   "cell_type": "code",
   "execution_count": null,
   "metadata": {},
   "outputs": [],
   "source": []
  },
  {
   "cell_type": "code",
   "execution_count": null,
   "metadata": {},
   "outputs": [],
   "source": []
  }
 ],
 "metadata": {
  "kernelspec": {
   "display_name": "Python 3",
   "language": "python",
   "name": "python3"
  },
  "language_info": {
   "codemirror_mode": {
    "name": "ipython",
    "version": 3
   },
   "file_extension": ".py",
   "mimetype": "text/x-python",
   "name": "python",
   "nbconvert_exporter": "python",
   "pygments_lexer": "ipython3",
   "version": "3.6.7"
  }
 },
 "nbformat": 4,
 "nbformat_minor": 2
}
