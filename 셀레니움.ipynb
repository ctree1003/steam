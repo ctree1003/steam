{
 "cells": [
  {
   "cell_type": "code",
   "execution_count": 5,
   "metadata": {},
   "outputs": [],
   "source": [
    "from selenium import webdriver\n",
    "import pandas as pd\n",
    "import time\n",
    "import os\n",
    "from os import rename"
   ]
  },
  {
   "cell_type": "code",
   "execution_count": 64,
   "metadata": {},
   "outputs": [],
   "source": [
    "test = \"\\graph\""
   ]
  },
  {
   "cell_type": "code",
   "execution_count": 6,
   "metadata": {
    "scrolled": true
   },
   "outputs": [],
   "source": [
    "os.rename('chart.csv', 'ckxm.csv')"
   ]
  },
  {
   "cell_type": "code",
   "execution_count": 12,
   "metadata": {
    "scrolled": true
   },
   "outputs": [],
   "source": [
    "code_frame = pd.read_csv('game_list.csv')\n",
    "page_frame = pd.read_csv('page_list.csv')"
   ]
  },
  {
   "cell_type": "code",
   "execution_count": 13,
   "metadata": {},
   "outputs": [],
   "source": [
    "test = pd.merge(code_frame, page_frame, on = 'code')"
   ]
  },
  {
   "cell_type": "code",
   "execution_count": 14,
   "metadata": {},
   "outputs": [],
   "source": [
    "test = test[test.page != 0]"
   ]
  },
  {
   "cell_type": "code",
   "execution_count": 30,
   "metadata": {},
   "outputs": [],
   "source": [
    "test1 = test[0:2000]\n",
    "test2 = test[2000:4000]\n",
    "test3 = test[4000:6000]\n",
    "test4 = test[6000:8000]\n",
    "test5 = test[8000:10000]\n",
    "test6 = test[10000:12000]\n",
    "test7 = test[12000:14000]\n",
    "test8 = test[14000:16000]\n",
    "test9 = test[16000:]"
   ]
  },
  {
   "cell_type": "code",
   "execution_count": 41,
   "metadata": {},
   "outputs": [],
   "source": [
    "test3_1 = test3[707:]"
   ]
  },
  {
   "cell_type": "code",
   "execution_count": 42,
   "metadata": {},
   "outputs": [],
   "source": [
    "test_list3_1 = test3_1['code'].tolist()"
   ]
  },
  {
   "cell_type": "code",
   "execution_count": 31,
   "metadata": {},
   "outputs": [],
   "source": [
    "test_list1 = test1['code'].tolist()\n",
    "test_list2 = test2['code'].tolist()\n",
    "test_list3 = test3['code'].tolist()\n",
    "test_list4 = test4['code'].tolist()\n",
    "test_list5 = test5['code'].tolist()\n",
    "test_list6 = test6['code'].tolist()\n",
    "test_list7 = test7['code'].tolist()\n",
    "test_list8 = test8['code'].tolist()\n",
    "test_list9 = test9['code'].tolist()\n"
   ]
  },
  {
   "cell_type": "code",
   "execution_count": null,
   "metadata": {},
   "outputs": [],
   "source": [
    "driver = webdriver.Chrome('chromedriver.exe')"
   ]
  },
  {
   "cell_type": "code",
   "execution_count": 57,
   "metadata": {},
   "outputs": [],
   "source": [
    "test6_1 = test6[1666:]\n",
    "test_list6_1 = test6_1['code'].tolist()"
   ]
  },
  {
   "cell_type": "code",
   "execution_count": 72,
   "metadata": {},
   "outputs": [],
   "source": [
    "test7_2 = test7[1470:]\n",
    "test_list7_2 = test7_2['code'].tolist()"
   ]
  },
  {
   "cell_type": "code",
   "execution_count": 77,
   "metadata": {},
   "outputs": [],
   "source": [
    "test7_3 = test7[1711:]\n",
    "test_list7_3 = test7_3['code'].tolist()"
   ]
  },
  {
   "cell_type": "code",
   "execution_count": 90,
   "metadata": {},
   "outputs": [],
   "source": [
    "test8_1 = test8[92:]\n",
    "test_list8_1 = test8_1['code'].tolist()"
   ]
  },
  {
   "cell_type": "code",
   "execution_count": null,
   "metadata": {
    "scrolled": true
   },
   "outputs": [],
   "source": [
    "# 일주일치\n",
    "for code in test_list8_1 :\n",
    "    driver.get('https://steamdb.info/app/%s/graphs/' %code)\n",
    "    time.sleep(2)\n",
    "    every = driver.find_element_by_id('js-chart-week')\n",
    "    driver.find_element_by_class_name('highcharts-exporting-group').click()\n",
    "    csv = driver.find_elements_by_class_name('highcharts-menu-item')\n",
    "    csv[0].click()\n",
    "    time.sleep(2)\n",
    "    os.rename('chart.csv', '%s.csv' %code)"
   ]
  },
  {
   "cell_type": "code",
   "execution_count": 21,
   "metadata": {},
   "outputs": [],
   "source": [
    "driver.get('https://steamdb.info/app/311690/graphs/')"
   ]
  },
  {
   "cell_type": "code",
   "execution_count": 24,
   "metadata": {},
   "outputs": [],
   "source": [
    "every = driver.find_element_by_id('js-chart-year')"
   ]
  },
  {
   "cell_type": "code",
   "execution_count": 26,
   "metadata": {},
   "outputs": [],
   "source": [
    "every.find_element_by_class_name('highcharts-exporting-group').click()"
   ]
  },
  {
   "cell_type": "code",
   "execution_count": 27,
   "metadata": {},
   "outputs": [],
   "source": [
    "csv = every.find_elements_by_class_name('highcharts-menu-item')\n",
    "csv[0].click()"
   ]
  },
  {
   "cell_type": "code",
   "execution_count": null,
   "metadata": {},
   "outputs": [],
   "source": [
    "# 매일\n",
    "for code in test_list :\n",
    "    driver.get('https://steamdb.info/app/%s/graphs/' %code)\n",
    "    time.sleep(2)\n",
    "    every = driver.find_element_by_id('js-chart-year')\n",
    "    every.find_element_by_class_name('highcharts-exporting-group').click()\n",
    "    csv = every.find_elements_by_class_name('highcharts-menu-item')\n",
    "    csv[0].click()\n",
    "    time.sleep(1)\n",
    "    os.rename('chart.csv', '%s.csv' %code)"
   ]
  },
  {
   "cell_type": "code",
   "execution_count": null,
   "metadata": {},
   "outputs": [],
   "source": []
  }
 ],
 "metadata": {
  "kernelspec": {
   "display_name": "Python 3",
   "language": "python",
   "name": "python3"
  },
  "language_info": {
   "codemirror_mode": {
    "name": "ipython",
    "version": 3
   },
   "file_extension": ".py",
   "mimetype": "text/x-python",
   "name": "python",
   "nbconvert_exporter": "python",
   "pygments_lexer": "ipython3",
   "version": "3.7.0"
  }
 },
 "nbformat": 4,
 "nbformat_minor": 2
}
